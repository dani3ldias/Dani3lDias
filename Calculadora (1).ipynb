{
  "nbformat": 4,
  "nbformat_minor": 0,
  "metadata": {
    "colab": {
      "provenance": []
    },
    "kernelspec": {
      "name": "python3",
      "display_name": "Python 3"
    },
    "language_info": {
      "name": "python"
    }
  },
  "cells": [
    {
      "cell_type": "code",
      "execution_count": null,
      "metadata": {
        "colab": {
          "base_uri": "https://localhost:8080/"
        },
        "id": "CaRD5HTaMmF6",
        "outputId": "28158863-00fe-4616-8e3a-31044edf1ce8"
      },
      "outputs": [
        {
          "output_type": "stream",
          "name": "stdout",
          "text": [
            "digite o primeiro numero: 34\n",
            "digite o segundo numero:  34\n",
            "escolha a operaçao (+,-,*,/): +\n",
            "O resultado é: 68.0\n"
          ]
        }
      ],
      "source": [
        "# recebe os numeros do usuario\n",
        "num1 = input (\"digite o primeiro numero: \")\n",
        "num2 = input (\"digite o segundo numero:  \")\n",
        "\n",
        "# converte os valores para float\n",
        "num1 = float (num1)\n",
        "num2 = float (num2)\n",
        "\n",
        "# pede ao usuario para escolher a operação\n",
        "operacao = input(\"escolha a operaçao (+,-,*,/): \")\n",
        "\n",
        "# realiza a operação escolhida\n",
        "if operacao == '+':\n",
        "   resultado = num1 + num2\n",
        "elif operacao == '-':\n",
        "   resultado = num1 - num2\n",
        "elif operacao == '*':\n",
        "   resultado = num1 * num2\n",
        "elif operacao == '/':\n",
        "   resultado = num1 / num2\n",
        "else:\n",
        "   resultado = \"operaçao invalida\"\n",
        "\n",
        "# exibe o resultado\n",
        "print(\"O resultado é:\", resultado)"
      ]
    }
  ]
}