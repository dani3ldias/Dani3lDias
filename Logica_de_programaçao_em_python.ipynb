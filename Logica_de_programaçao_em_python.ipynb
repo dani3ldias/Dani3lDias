{
  "nbformat": 4,
  "nbformat_minor": 0,
  "metadata": {
    "colab": {
      "provenance": []
    },
    "kernelspec": {
      "name": "python3",
      "display_name": "Python 3"
    },
    "language_info": {
      "name": "python"
    }
  },
  "cells": [
    {
      "cell_type": "markdown",
      "source": [
        "\n",
        "\n",
        "---\n",
        "\n",
        "### Operadores Aritméticos\n",
        "\n",
        "+ adição ( + )\n",
        "- subtração ( - )\n",
        "* mutiplicação ( * )\n",
        "* divisão ( / )\n",
        "* divisão inteira ( // )\n",
        "* resto da divisão ( % )\n",
        "* potenciação ( ** )\n"
      ],
      "metadata": {
        "id": "FtapXsyMS3Lg"
      }
    },
    {
      "cell_type": "code",
      "source": [
        "10+4 # adição"
      ],
      "metadata": {
        "colab": {
          "base_uri": "https://localhost:8080/"
        },
        "id": "f4jqThXDSbGy",
        "outputId": "5a456179-4610-4271-ebab-2bf4fc5e25d4"
      },
      "execution_count": null,
      "outputs": [
        {
          "output_type": "execute_result",
          "data": {
            "text/plain": [
              "14"
            ]
          },
          "metadata": {},
          "execution_count": 12
        }
      ]
    },
    {
      "cell_type": "code",
      "source": [
        "10-2 # subtração"
      ],
      "metadata": {
        "colab": {
          "base_uri": "https://localhost:8080/"
        },
        "id": "WmrUDHLATYgm",
        "outputId": "09a0f620-df75-495e-c821-d2b2ad21c076"
      },
      "execution_count": null,
      "outputs": [
        {
          "output_type": "execute_result",
          "data": {
            "text/plain": [
              "8"
            ]
          },
          "metadata": {},
          "execution_count": 13
        }
      ]
    },
    {
      "cell_type": "code",
      "source": [
        "10*2 # multiplicação"
      ],
      "metadata": {
        "colab": {
          "base_uri": "https://localhost:8080/"
        },
        "id": "bAiO22LUUZUA",
        "outputId": "23bf25d4-e831-4a4a-9c55-dac99b4d7a1b"
      },
      "execution_count": null,
      "outputs": [
        {
          "output_type": "execute_result",
          "data": {
            "text/plain": [
              "20"
            ]
          },
          "metadata": {},
          "execution_count": 14
        }
      ]
    },
    {
      "cell_type": "code",
      "source": [
        "10/2 # divisão"
      ],
      "metadata": {
        "colab": {
          "base_uri": "https://localhost:8080/"
        },
        "id": "a85KrMmNT6UM",
        "outputId": "ed545523-3e17-429e-db4e-52260ae0eb4d"
      },
      "execution_count": null,
      "outputs": [
        {
          "output_type": "execute_result",
          "data": {
            "text/plain": [
              "5.0"
            ]
          },
          "metadata": {},
          "execution_count": 15
        }
      ]
    },
    {
      "cell_type": "code",
      "source": [
        "# Divisão Inteira\n",
        "10//2"
      ],
      "metadata": {
        "colab": {
          "base_uri": "https://localhost:8080/"
        },
        "id": "eZVgzfmGUwFX",
        "outputId": "1e76edbd-14ee-4bfd-8397-e1e053818bbd"
      },
      "execution_count": null,
      "outputs": [
        {
          "output_type": "execute_result",
          "data": {
            "text/plain": [
              "5"
            ]
          },
          "metadata": {},
          "execution_count": 16
        }
      ]
    },
    {
      "cell_type": "code",
      "source": [
        "# Resto da Divisão\n",
        "10%2"
      ],
      "metadata": {
        "colab": {
          "base_uri": "https://localhost:8080/"
        },
        "id": "YscbfWX4U8B4",
        "outputId": "4733acc3-6b24-4818-b613-30cf8e76d252"
      },
      "execution_count": null,
      "outputs": [
        {
          "output_type": "execute_result",
          "data": {
            "text/plain": [
              "0"
            ]
          },
          "metadata": {},
          "execution_count": 17
        }
      ]
    },
    {
      "cell_type": "code",
      "source": [
        "# Potenciação\n",
        "10**2"
      ],
      "metadata": {
        "colab": {
          "base_uri": "https://localhost:8080/"
        },
        "id": "jnSFecnyVFmw",
        "outputId": "60d482c9-4a38-4fd3-f376-3a643f8a4199"
      },
      "execution_count": null,
      "outputs": [
        {
          "output_type": "execute_result",
          "data": {
            "text/plain": [
              "100"
            ]
          },
          "metadata": {},
          "execution_count": 18
        }
      ]
    },
    {
      "cell_type": "markdown",
      "source": [
        "### Operadores Relacionais\n",
        "* maior que ( > )\n",
        "* menor que ( < )\n",
        "* maior igual que ( >= )\n",
        "* menor igual que ( <= )\n",
        "* igual == obs 1 simbolo sozinho e atribuiçao( = ) 2 simbolos e igual ( == )\n",
        "* diferente ( != )"
      ],
      "metadata": {
        "id": "gZ6NF57JVcwY"
      }
    },
    {
      "cell_type": "code",
      "source": [
        "# Menor\n",
        "10<2"
      ],
      "metadata": {
        "colab": {
          "base_uri": "https://localhost:8080/"
        },
        "id": "2Qmt3RDsVjTc",
        "outputId": "a831c4bd-ca40-4c22-c180-41fd1bfd0ba1"
      },
      "execution_count": null,
      "outputs": [
        {
          "output_type": "execute_result",
          "data": {
            "text/plain": [
              "False"
            ]
          },
          "metadata": {},
          "execution_count": 11
        }
      ]
    },
    {
      "cell_type": "code",
      "source": [
        "# Menor ou Igual\n",
        "10<=2"
      ],
      "metadata": {
        "colab": {
          "base_uri": "https://localhost:8080/"
        },
        "id": "bxe3QLLKVxA3",
        "outputId": "3c32b31a-53d8-4836-e42b-3ef18b9924d4"
      },
      "execution_count": null,
      "outputs": [
        {
          "output_type": "execute_result",
          "data": {
            "text/plain": [
              "False"
            ]
          },
          "metadata": {},
          "execution_count": 12
        }
      ]
    },
    {
      "cell_type": "code",
      "source": [
        "# Maior\n",
        "10>2"
      ],
      "metadata": {
        "colab": {
          "base_uri": "https://localhost:8080/"
        },
        "id": "DjZRW2DIV-T9",
        "outputId": "5ac83060-8e03-4191-97d5-758019a4b438"
      },
      "execution_count": null,
      "outputs": [
        {
          "output_type": "execute_result",
          "data": {
            "text/plain": [
              "True"
            ]
          },
          "metadata": {},
          "execution_count": 13
        }
      ]
    },
    {
      "cell_type": "code",
      "source": [
        "# Maior ou Igual\n",
        "10>=2"
      ],
      "metadata": {
        "colab": {
          "base_uri": "https://localhost:8080/"
        },
        "id": "_LYhSJtWWEbK",
        "outputId": "aa5c8f07-0e5d-4f16-d5b4-f062a03e34c9"
      },
      "execution_count": null,
      "outputs": [
        {
          "output_type": "execute_result",
          "data": {
            "text/plain": [
              "True"
            ]
          },
          "metadata": {},
          "execution_count": 14
        }
      ]
    },
    {
      "cell_type": "code",
      "source": [
        "# Igual\n",
        "7 == 7"
      ],
      "metadata": {
        "colab": {
          "base_uri": "https://localhost:8080/"
        },
        "id": "sBz_2-vRWguD",
        "outputId": "55e13e72-639b-4853-fab1-c45103309a35"
      },
      "execution_count": null,
      "outputs": [
        {
          "output_type": "execute_result",
          "data": {
            "text/plain": [
              "True"
            ]
          },
          "metadata": {},
          "execution_count": 15
        }
      ]
    },
    {
      "cell_type": "code",
      "source": [
        "7 != 7 # diferente"
      ],
      "metadata": {
        "colab": {
          "base_uri": "https://localhost:8080/"
        },
        "id": "oqFBUFDA-p40",
        "outputId": "c4e08b5d-11d9-455d-938a-708421bc5a5f"
      },
      "execution_count": null,
      "outputs": [
        {
          "output_type": "execute_result",
          "data": {
            "text/plain": [
              "False"
            ]
          },
          "metadata": {},
          "execution_count": 18
        }
      ]
    },
    {
      "cell_type": "markdown",
      "source": [
        "### Operadores Lógicos\n",
        "\n",
        "*   and ( e )\n",
        "*   or ( ou )\n",
        "*   not ( nao )\n",
        "\n",
        "\n",
        "\n"
      ],
      "metadata": {
        "id": "7Gy-99ySWsqk"
      }
    },
    {
      "cell_type": "code",
      "source": [
        "print(10 > 2 and 4 < 6 )   # v and v - v\n",
        "print(10 > 2 and 4 > 6 )   # v and f - f\n",
        "print(10 < 2 and 4 < 6 )   # v and f - f\n",
        "print(10 < 2 and 4 > 6 )   # f and f - f"
      ],
      "metadata": {
        "colab": {
          "base_uri": "https://localhost:8080/"
        },
        "id": "zgU7755iXjD5",
        "outputId": "0e343185-b6d0-44a3-ebbe-ad635525d75c"
      },
      "execution_count": null,
      "outputs": [
        {
          "output_type": "stream",
          "name": "stdout",
          "text": [
            "True\n",
            "False\n",
            "False\n",
            "False\n"
          ]
        }
      ]
    },
    {
      "cell_type": "code",
      "source": [
        "print(10 > 2 or 4 < 6 )   # v or v - v\n",
        "print(10 > 2 or 4 > 6 )   # v or f - v\n",
        "print(10 < 2 or 4 < 6 )   # v or f - v\n",
        "print(10 < 2 or 4 > 6 )   # f or f - f"
      ],
      "metadata": {
        "colab": {
          "base_uri": "https://localhost:8080/"
        },
        "id": "TzUlWz6D8h0E",
        "outputId": "e499997e-8b1d-44c8-f398-1466f3677c49"
      },
      "execution_count": null,
      "outputs": [
        {
          "output_type": "stream",
          "name": "stdout",
          "text": [
            "True\n",
            "True\n",
            "True\n",
            "False\n"
          ]
        }
      ]
    },
    {
      "cell_type": "code",
      "source": [
        "not 10 > 2   # v - f"
      ],
      "metadata": {
        "colab": {
          "base_uri": "https://localhost:8080/"
        },
        "id": "CUARuubAAREt",
        "outputId": "e3d2220f-4eba-4313-ece0-473dbd70b40a"
      },
      "execution_count": null,
      "outputs": [
        {
          "output_type": "execute_result",
          "data": {
            "text/plain": [
              "False"
            ]
          },
          "metadata": {},
          "execution_count": 19
        }
      ]
    },
    {
      "cell_type": "code",
      "source": [
        "not 10 < 2   # f - v"
      ],
      "metadata": {
        "id": "Q7enGvWKAbTD",
        "colab": {
          "base_uri": "https://localhost:8080/"
        },
        "outputId": "ff52e9e0-be55-4733-ba16-bbc87a776979"
      },
      "execution_count": null,
      "outputs": [
        {
          "output_type": "execute_result",
          "data": {
            "text/plain": [
              "True"
            ]
          },
          "metadata": {},
          "execution_count": 20
        }
      ]
    },
    {
      "cell_type": "markdown",
      "source": [
        "### Estruturas de Controle\n",
        "* if\n",
        "* elif\n",
        "* else"
      ],
      "metadata": {
        "id": "0yTWx_F7KOV6"
      }
    },
    {
      "cell_type": "code",
      "source": [
        "if   2 > 15:\n",
        "     print(\"positivo\")\n",
        "elif 2 < 15:\n",
        "     print(\"negativo\")\n",
        "else:\n",
        "     print(\"zero\")\n",
        "\n",
        "for i in range(5) :\n",
        "    print(i)"
      ],
      "metadata": {
        "id": "OHzDiRyBKnL-",
        "colab": {
          "base_uri": "https://localhost:8080/"
        },
        "outputId": "6bac48b4-9f40-4e4d-c184-f4999d28fb3c"
      },
      "execution_count": null,
      "outputs": [
        {
          "output_type": "stream",
          "name": "stdout",
          "text": [
            "negativo\n",
            "0\n",
            "1\n",
            "2\n",
            "3\n",
            "4\n"
          ]
        }
      ]
    },
    {
      "cell_type": "markdown",
      "source": [
        "### Estruturas de Dados\n",
        "* lista\n",
        "* tuplas\n",
        "* dicionario\n",
        "* conjunto"
      ],
      "metadata": {
        "id": "rUoUqyHsj6Pb"
      }
    },
    {
      "cell_type": "code",
      "source": [
        "lista = [1, 2, 3, 4, 5]"
      ],
      "metadata": {
        "id": "GvIc75fmkJ20"
      },
      "execution_count": null,
      "outputs": []
    },
    {
      "cell_type": "code",
      "source": [
        "tupla = (1, \"dois\" , 3,0)"
      ],
      "metadata": {
        "id": "9PH-NYSklJ7X"
      },
      "execution_count": null,
      "outputs": []
    },
    {
      "cell_type": "code",
      "source": [
        "dicionario = {\"chave\": \"valor\"}"
      ],
      "metadata": {
        "id": "WhAhYie4lacK"
      },
      "execution_count": null,
      "outputs": []
    },
    {
      "cell_type": "code",
      "source": [
        "conjunto {1, 2, 3}"
      ],
      "metadata": {
        "id": "ks-S1I4LlmRZ"
      },
      "execution_count": null,
      "outputs": []
    },
    {
      "cell_type": "markdown",
      "source": [
        "### Funçoes"
      ],
      "metadata": {
        "id": "-T8QObvgupvL"
      }
    },
    {
      "cell_type": "code",
      "source": [
        "def saudacao(nome):\n",
        "    return f\"Olá, {nome}!\""
      ],
      "metadata": {
        "id": "gSQARsO-uuST"
      },
      "execution_count": null,
      "outputs": []
    },
    {
      "cell_type": "markdown",
      "source": [
        "Manipulação de Strings"
      ],
      "metadata": {
        "id": "-f48MMJZvJXs"
      }
    },
    {
      "cell_type": "code",
      "source": [
        "texto = \"python\"\n",
        "print(texto.upper())"
      ],
      "metadata": {
        "colab": {
          "base_uri": "https://localhost:8080/"
        },
        "id": "AnOs6F49vO93",
        "outputId": "2b5447e2-b7fc-40d3-b142-d2145d331836"
      },
      "execution_count": null,
      "outputs": [
        {
          "output_type": "stream",
          "name": "stdout",
          "text": [
            "PYTHON\n"
          ]
        }
      ]
    },
    {
      "cell_type": "markdown",
      "source": [
        "### Tratamento de Exceçoes"
      ],
      "metadata": {
        "id": "xLN1YJKpvt9s"
      }
    },
    {
      "cell_type": "code",
      "source": [
        "try:\n",
        "  resultado = 10 / 0\n",
        "except ZeroDivisionError:\n",
        "  print(\"divisão por zero!\")"
      ],
      "metadata": {
        "colab": {
          "base_uri": "https://localhost:8080/"
        },
        "id": "htsUoZriv2tU",
        "outputId": "c899dbe8-4cf6-4429-b023-7b0e5720144c"
      },
      "execution_count": null,
      "outputs": [
        {
          "output_type": "stream",
          "name": "stdout",
          "text": [
            "divisão por zero!\n"
          ]
        }
      ]
    },
    {
      "cell_type": "markdown",
      "source": [
        "### Modulos e Pacotes"
      ],
      "metadata": {
        "id": "KuCCyV_AZlrp"
      }
    },
    {
      "cell_type": "code",
      "source": [
        "import math\n",
        "print(math.pi)"
      ],
      "metadata": {
        "colab": {
          "base_uri": "https://localhost:8080/"
        },
        "id": "jkg-an2tZrmi",
        "outputId": "0506e434-eb1f-4699-9eae-edbab43aaa67"
      },
      "execution_count": null,
      "outputs": [
        {
          "output_type": "stream",
          "name": "stdout",
          "text": [
            "3.141592653589793\n"
          ]
        }
      ]
    },
    {
      "cell_type": "markdown",
      "source": [
        "### Arquivos"
      ],
      "metadata": {
        "id": "hrOQmMhxZ36r"
      }
    },
    {
      "cell_type": "code",
      "source": [
        "with open(\"arquivo.txt\", \"w\") as f:\n",
        "    f.write(\"Ola, mundo!\")"
      ],
      "metadata": {
        "id": "HKSmIH-NZ8aZ"
      },
      "execution_count": null,
      "outputs": []
    },
    {
      "cell_type": "markdown",
      "source": [
        "### Programação Orientada a Objetos\n",
        "\n",
        "\n",
        "\n"
      ],
      "metadata": {
        "id": "eFYSYOWPaVV2"
      }
    },
    {
      "cell_type": "code",
      "source": [
        "class Carro:\n",
        "  def __init__(self, marca):\n",
        "    self.marca = marca"
      ],
      "metadata": {
        "id": "TDlqkMOLadIx"
      },
      "execution_count": null,
      "outputs": []
    },
    {
      "cell_type": "markdown",
      "source": [
        "### Compreensões"
      ],
      "metadata": {
        "id": "m1Ndxpkda5yV"
      }
    },
    {
      "cell_type": "code",
      "source": [
        "quadrados = [x**2 for x in range(10)]"
      ],
      "metadata": {
        "id": "E07kjmGEbTDI"
      },
      "execution_count": null,
      "outputs": []
    },
    {
      "cell_type": "markdown",
      "source": [
        "### Geradores e Iteradores"
      ],
      "metadata": {
        "id": "Oyt0h66EbfCH"
      }
    },
    {
      "cell_type": "code",
      "source": [
        "def contador():\n",
        "  yield 1\n",
        "  yield 2\n",
        "  yield 3"
      ],
      "metadata": {
        "id": "xAM0tSWWbk_W"
      },
      "execution_count": null,
      "outputs": []
    },
    {
      "cell_type": "markdown",
      "source": [
        "### Decoradores"
      ],
      "metadata": {
        "id": "KtIj4j7wb0y0"
      }
    },
    {
      "cell_type": "code",
      "source": [
        "def meu_decorador(func):\n",
        "  def wrapper():\n",
        "    print(\"Antes\")\n",
        "    fun()\n",
        "    print(\"Depois\")\n",
        "  return wrapper"
      ],
      "metadata": {
        "id": "GhwYqIx3b5Ov"
      },
      "execution_count": null,
      "outputs": []
    },
    {
      "cell_type": "markdown",
      "source": [
        "### Recursão"
      ],
      "metadata": {
        "id": "sqpIlPsscV0s"
      }
    },
    {
      "cell_type": "code",
      "source": [
        "def fatorial(n):\n",
        "  if n == 0 or n == 1:\n",
        "    return 1\n",
        "  return n * fatorial(n-1)"
      ],
      "metadata": {
        "id": "QyQQclGZcaMm"
      },
      "execution_count": null,
      "outputs": []
    },
    {
      "cell_type": "markdown",
      "source": [
        "### Expressoes Regulares"
      ],
      "metadata": {
        "id": "ezPxQ0yPc4iG"
      }
    },
    {
      "cell_type": "code",
      "source": [
        "import re\n",
        "padrao = r'd+'\n",
        "texto = \"123 abc 456\"\n",
        "numeros = re.findall(padrao, texto)"
      ],
      "metadata": {
        "id": "xVpqL0bOc-PF"
      },
      "execution_count": null,
      "outputs": []
    },
    {
      "cell_type": "markdown",
      "source": [
        "### Programação Funcional"
      ],
      "metadata": {
        "id": "skEHgCk8dcP6"
      }
    },
    {
      "cell_type": "code",
      "source": [
        "numeros = [1, 2, 3, 4, 5]\n",
        "pares = list(filter(lambda x: x % 2 == 0, numeros))"
      ],
      "metadata": {
        "id": "9FPS6pqHdhmv"
      },
      "execution_count": null,
      "outputs": []
    },
    {
      "cell_type": "markdown",
      "source": [
        "### Manipulação de Data e Hora"
      ],
      "metadata": {
        "id": "Rb0vQzY0d61t"
      }
    },
    {
      "cell_type": "code",
      "source": [
        "from datetime import datetime\n",
        "agora = datetime.now()"
      ],
      "metadata": {
        "id": "H5NZP0cWeAnn"
      },
      "execution_count": null,
      "outputs": []
    },
    {
      "cell_type": "markdown",
      "source": [
        "### Concorrência e Paralelismo"
      ],
      "metadata": {
        "id": "6ftalUrEeNdT"
      }
    },
    {
      "cell_type": "code",
      "source": [
        "import threading\n",
        "\n",
        "def tarefa():\n",
        "  print(\"Excuntando tarefa\")\n",
        "\n",
        "thread = threading.Thread(target=tarefa)\n",
        "thread.start()"
      ],
      "metadata": {
        "colab": {
          "base_uri": "https://localhost:8080/"
        },
        "id": "5dpdtybceXUO",
        "outputId": "436bcfcd-29e0-426a-a12e-8ccac596350f"
      },
      "execution_count": null,
      "outputs": [
        {
          "output_type": "stream",
          "name": "stdout",
          "text": [
            "Excuntando tarefa\n"
          ]
        }
      ]
    },
    {
      "cell_type": "markdown",
      "source": [
        "### Testes"
      ],
      "metadata": {
        "id": "pWvztPTme8pi"
      }
    },
    {
      "cell_type": "code",
      "source": [
        "def soma(a, b):\n",
        "  return a + b\n",
        "\n",
        "def test_soma():\n",
        "  assert soma (2, 3) == 5"
      ],
      "metadata": {
        "id": "k_ELglhbe_17"
      },
      "execution_count": null,
      "outputs": []
    }
  ]
}